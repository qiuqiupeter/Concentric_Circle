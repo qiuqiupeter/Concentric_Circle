{
  "nbformat": 4,
  "nbformat_minor": 0,
  "metadata": {
    "colab": {
      "provenance": []
    },
    "kernelspec": {
      "name": "python3",
      "display_name": "Python 3"
    },
    "language_info": {
      "name": "python"
    }
  },
  "cells": [
    {
      "cell_type": "markdown",
      "source": [
        "To run this program you have two options: upload a single czi image (preferred), or upload a fixed size square MT-Channel png/jpg (eg. 120x120 image). The only time when you should upload a single czi file is if the image is already zoomed into the area that you want to measure with this program with the nuclei of interest in the center. Otherwise, passing in an entire muscle image will cause issues with miscellaneous nuclei above and below the muscle that will be detected. To upload the image(s), simply run the corresponding loading code chunk below based on the image type you are choosing."
      ],
      "metadata": {
        "id": "TdUDdvk5zjDF"
      }
    },
    {
      "cell_type": "code",
      "source": [
        "!pip install aicsimageio\n",
        "!pip install aicspylibczi\n",
        "import numpy as np\n",
        "from keras.preprocessing import image\n",
        "import keras.utils as ut\n",
        "import cv2\n",
        "import matplotlib.pyplot as plt\n",
        "from ipywidgets import interact, interactive, fixed, interact_manual\n",
        "import ipywidgets as widgets\n",
        "from PIL import Image, ImageDraw\n",
        "from skimage.measure import label\n",
        "from aicsimageio import AICSImage\n",
        "from aicsimageio.readers import CziReader\n",
        "import os\n",
        "import pandas as pd\n",
        "from scipy.ndimage import binary_dilation, binary_fill_holes\n",
        "from scipy import ndimage as ndi\n",
        "from skimage.feature import peak_local_max\n"
      ],
      "metadata": {
        "id": "CL7ZqN22uPqE",
        "collapsed": true
      },
      "execution_count": null,
      "outputs": []
    },
    {
      "cell_type": "code",
      "source": [
        "dfo = '/content/Concentric Circle Data.xlsx'"
      ],
      "metadata": {
        "id": "qUPzVRCLTITQ"
      },
      "execution_count": null,
      "outputs": []
    },
    {
      "cell_type": "markdown",
      "source": [
        "## Helper Functions"
      ],
      "metadata": {
        "id": "VMrhyJhtvn1B"
      }
    },
    {
      "cell_type": "code",
      "source": [
        "def crop_black_border(image):\n",
        "  # remove the black border\n",
        "  row_max = image.max(axis = 1)\n",
        "  row_ind = np.where(row_max>0)[0]\n",
        "  col_max = image.max(axis = 0)\n",
        "  col_ind = np.where(col_max>0)[0]\n",
        "  return image[row_ind[0] : row_ind[-1]+1, col_ind[0] : col_ind[-1]+1]\n",
        "\n",
        "def OtsuTwoLevelThreshold(th_high, th_low):\n",
        "  plt.figure(figsize = (10,10))\n",
        "  im_o = micro_im.copy()\n",
        "  im_o[im_o > th_high] = 0\n",
        "  im_o[im_o < th_low] = 0\n",
        "\n",
        "  plt.subplot(121)\n",
        "  plt.title('Input')\n",
        "  plt.imshow(micro_im, cmap = 'gray')\n",
        "\n",
        "  plt.subplot(122)\n",
        "  plt.title('Output')\n",
        "  plt.imshow(im_o, cmap = 'gray')\n",
        "  print('Selected Param: th = (%d, %d)' % (th_high, th_low))\n",
        "  return\n",
        "\n",
        "def imAdjust(I, thres=[1,99]):\n",
        "    # compute percentile: remove too big or too small values\n",
        "    I_low, I_high = np.percentile(I.reshape(-1), thres)\n",
        "    # thresholding\n",
        "    I[I > I_high] = I_high\n",
        "    I[I < I_low] = I_low\n",
        "    # scale to 0-1\n",
        "    I = (I.astype(float)- I_low)/ (I_high-I_low)\n",
        "    # convert it to uint8\n",
        "    I = (I * 255).astype(np.uint8)\n",
        "    return I"
      ],
      "metadata": {
        "id": "-LlHXDhRw4KN"
      },
      "execution_count": null,
      "outputs": []
    },
    {
      "cell_type": "markdown",
      "source": [
        "## Loading czi images for nuclei detection (Preferred)"
      ],
      "metadata": {
        "id": "1x_kIAYkccel"
      }
    },
    {
      "cell_type": "markdown",
      "source": [
        "To load czi images into this code, in your \"MyDrive\" of your google drive, create a folder called \"Concentric_Data\" (if you haven't done so already). Then for each experiment/folder of images you want to analyze, upload the folder containing those czi images to \"Concentric_Data\". Then in the code below, change the genotype_name variable to the name of the folder you uploaded to \"Concentric_Data\". Spelling and capitalization matter."
      ],
      "metadata": {
        "id": "8tmSwPiT_OZg"
      }
    },
    {
      "cell_type": "code",
      "source": [
        "from google.colab import drive\n",
        "drive.mount('/content/drive')\n",
        "base_directory = '/content/drive/MyDrive/Concentric_Data'\n",
        "\n",
        "genotype_name = 'Concentric circle'\n",
        "def read_and_store_images(sub_folder):\n",
        "    folder_path = os.path.join(base_directory, sub_folder)\n",
        "    micro = []\n",
        "    nuclei = []\n",
        "    name = []\n",
        "    for filename in os.listdir(folder_path):\n",
        "        if filename.endswith('.czi'):\n",
        "            file_path = os.path.join(folder_path, filename)\n",
        "            img = AICSImage(file_path)\n",
        "            nuclei_im = img.get_image_data(\"ZYX\", C=1)\n",
        "            micro_im = img.get_image_data(\"ZYX\", C=0)\n",
        "\n",
        "            nuclei_im_max = np.max(nuclei_im, axis=0)\n",
        "            micro_im_max = np.max(micro_im, axis=0)\n",
        "\n",
        "            shape = nuclei_im_max.shape\n",
        "            nuclei_im_max = cv2.rotate(nuclei_im_max, cv2.ROTATE_90_COUNTERCLOCKWISE)\n",
        "            micro_im_max = cv2.rotate(micro_im_max, cv2.ROTATE_90_COUNTERCLOCKWISE)\n",
        "            name.append(filename.rstrip('.czi'))\n",
        "            micro.append(micro_im_max)\n",
        "            nuclei.append(nuclei_im_max)\n",
        "    return micro, nuclei, name\n",
        "\n",
        "micro_im, nuclei_im, file_name = read_and_store_images(genotype_name)"
      ],
      "metadata": {
        "id": "2DJ_c0umWyGa"
      },
      "execution_count": null,
      "outputs": []
    },
    {
      "cell_type": "markdown",
      "source": [
        "## Loading single MT channel image jpg/png"
      ],
      "metadata": {
        "id": "hFw3tpo_P7g7"
      }
    },
    {
      "cell_type": "markdown",
      "source": [
        "Only run this code if you want to run concentric analysis with jpg or png images of zoomed in microtubule images."
      ],
      "metadata": {
        "id": "r5eL88cagvFI"
      }
    },
    {
      "cell_type": "code",
      "source": [
        "from google.colab import drive\n",
        "drive.mount('/content/drive')\n",
        "base_directory = '/content/drive/MyDrive'\n",
        "\n",
        "def load_im(sub_folder):\n",
        "  folder_path = os.path.join(base_directory, sub_folder)\n",
        "  micro = []\n",
        "  for filename in os.listdir(folder_path):\n",
        "    file_path = os.path.join(folder_path, filename)\n",
        "\n",
        "    nuclei_im = ut.load_img('/content/C3-MAX_VL3 4.3-1.jpg', grayscale=True)\n",
        "    micro_im = ut.load_img(file_path, grayscale=True)\n",
        "\n",
        "    nuclei_im = ut.img_to_array(nuclei_im, dtype='uint8')\n",
        "    micro_im = ut.img_to_array(micro_im, dtype='uint8')\n",
        "\n",
        "    nuclei_im = nuclei_im[:,:,0]\n",
        "    micro_im = micro_im[:,:,0]\n",
        "\n",
        "    nuclei_im = crop_black_border(nuclei_im)\n",
        "    micro_im = crop_black_border(micro_im)\n",
        "    if micro_im.shape[0] != 80 or micro_im.shape[1] != 80:\n",
        "      print(file_path)\n",
        "    micro.append(micro_im)\n",
        "  return micro\n",
        "\n",
        "#Change name in parenthesis to the name of folder on google drive\n",
        "micro_im = load_im('folder name')"
      ],
      "metadata": {
        "id": "Dxu3Ugz8AzRP",
        "collapsed": true
      },
      "execution_count": null,
      "outputs": []
    },
    {
      "cell_type": "markdown",
      "source": [
        "## Visualizing each loaded MT-channel image"
      ],
      "metadata": {
        "id": "u3Ps_UUCc59W"
      }
    },
    {
      "cell_type": "code",
      "source": [
        "for im in micro_im:\n",
        "  im_adjust = imAdjust(im)\n",
        "  plt.imshow(im_adjust, cmap = 'gray')\n",
        "  print(im_adjust.dtype)\n",
        "  plt.show()"
      ],
      "metadata": {
        "id": "Hlmhkpz1_LYW"
      },
      "execution_count": null,
      "outputs": []
    },
    {
      "cell_type": "markdown",
      "source": [
        "## Automatically Calculating Nuclei Center for Airyscan only (CZI)"
      ],
      "metadata": {
        "id": "AmuDVFrPdAhD"
      }
    },
    {
      "cell_type": "markdown",
      "source": [
        "The following code will loop through all the input images and(hopefully) automatically calculate the center of the nuclei. The calculated centers will be displayed for human check. Of course, there is no algorithm that works 100%, so if it makes a mistake, you can always manually type in the x,y coordinates of the nuclei centers by uncommenting the last two lines of code below (simply delete the # sign for uncommenting a line of code)"
      ],
      "metadata": {
        "id": "uvvSWtyPsBS3"
      }
    },
    {
      "cell_type": "code",
      "source": [
        "y_centers = []\n",
        "x_centers = []\n",
        "for image in nuclei_im:\n",
        "  im = imAdjust(image)\n",
        "\n",
        "  n_image_mask = cv2.GaussianBlur(im,(85,85),0)\n",
        "  plt.imshow(n_image_mask, cmap = 'gray')\n",
        "  plt.title('Blurred nuclei image')\n",
        "  plt.show()\n",
        "  threshold = 50\n",
        "  bin_n_image = n_image_mask > threshold\n",
        "\n",
        "  dilated_image = binary_dilation(bin_n_image, structure=np.ones((35, 35)))\n",
        "  filled_image = binary_fill_holes(dilated_image)\n",
        "\n",
        "  seg_n_image = label(filled_image)\n",
        "  plt.imshow(seg_n_image)\n",
        "  plt.title('Nuclei segmentation')\n",
        "  plt.show()\n",
        "\n",
        "  #Loading in and pre-processing images above. Below, we are finding the centers of each nucleus in the image\n",
        "  #The centers can be input manually by uncommenting the x_centers and y_centers variables below\n",
        "  #If centers are input manually, be aware that the values you get from FIJI are in (row, column) form, where row\n",
        "  #corresponds to the y_centers variable and column corresponds to x_centers (I know its not the best naming but here we are)\n",
        "\n",
        "  distance = ndi.distance_transform_edt(seg_n_image)\n",
        "  optima_window_size = 75\n",
        "  coords = peak_local_max(distance,\\\n",
        "                        footprint=np.ones((optima_window_size, optima_window_size)))\n",
        "\n",
        "  #Need to transpose the coordinates?\n",
        "  mask = (coords[:, 0] >= 550) & (coords[:, 0] <= 1250) & (coords[:, 1] >= 550) & (coords[:, 1] <= 1250)\n",
        "  print(coords)\n",
        "  center_coords = coords[mask]\n",
        "  center_original = np.mean(center_coords, axis=0)\n",
        "  center = center_original[::-1]\n",
        "  x_centers.append(int(center[1]))\n",
        "  y_centers.append(int(center[0]))\n",
        "\n",
        "\n",
        "  plt.imshow(distance)\n",
        "  plt.title('Distance transform of nuclei segmentation')\n",
        "  plt.show()\n",
        "  # Display the image\n",
        "  plt.imshow(seg_n_image)\n",
        "  plt.scatter(y_centers[len(y_centers)-1], x_centers[len(x_centers)-1])\n",
        "  plt.title(\"Centroid of the Object\")\n",
        "  plt.show()\n",
        "\n",
        "#of course, you can also manually enter the x y values for the center of nuclei by uncommenting the codes below\n",
        "#x_centers[0] = 250\n",
        "#y_centers[0] = 250\n",
        "#plt.imshow(nuclei_im[0])\n",
        "#plt.scatter(y_centers[0], x_centers[0])\n",
        "#plt.show()"
      ],
      "metadata": {
        "id": "2mtGwuAzxHsJ",
        "collapsed": true
      },
      "execution_count": null,
      "outputs": []
    },
    {
      "cell_type": "markdown",
      "source": [
        "## Automatically Calculating Nuclei Center for Confocal only"
      ],
      "metadata": {
        "id": "J8oLvVxxHyMp"
      }
    },
    {
      "cell_type": "code",
      "source": [
        "y_centers = []\n",
        "x_centers = []\n",
        "for image in nuclei_im:\n",
        "  im = imAdjust(image)\n",
        "\n",
        "  n_image_mask = cv2.GaussianBlur(im,(7,7),0)\n",
        "  plt.imshow(n_image_mask, cmap = 'gray')\n",
        "  plt.title('Blurred nuclei image')\n",
        "  plt.show()\n",
        "  threshold = 20\n",
        "  bin_n_image = n_image_mask > threshold\n",
        "\n",
        "  dilated_image = binary_dilation(bin_n_image, structure=np.ones((3, 3)))\n",
        "  filled_image = binary_fill_holes(dilated_image)\n",
        "\n",
        "  seg_n_image = label(filled_image)\n",
        "  plt.imshow(seg_n_image)\n",
        "  plt.title('Nuclei segmentation')\n",
        "  plt.show()\n",
        "\n",
        "  #Loading in and pre-processing images above. Below, we are finding the centers of each nucleus in the image\n",
        "  #The centers can be input manually by uncommenting the x_centers and y_centers variables below\n",
        "  #If centers are input manually, be aware that the values you get from FIJI are in (row, column) form, where row\n",
        "  #corresponds to the y_centers variable and column corresponds to x_centers (I know its not the best naming but here we are)\n",
        "\n",
        "  distance = ndi.distance_transform_edt(seg_n_image)\n",
        "  optima_window_size = 25\n",
        "  coords = peak_local_max(distance,\\\n",
        "                        footprint=np.ones((optima_window_size, optima_window_size)))\n",
        "\n",
        "  #Need to transpose the coordinates?\n",
        "  mask = (coords[:, 0] >= 30) & (coords[:, 0] <= 70) & (coords[:, 1] >= 30) & (coords[:, 1] <= 70)\n",
        "  center_coords = coords[mask]\n",
        "  center_original = np.mean(center_coords, axis=0)\n",
        "  center = center_original[::-1]\n",
        "  x_centers.append(int(center[1]))\n",
        "  y_centers.append(int(center[0]))\n",
        "\n",
        "\n",
        "  plt.imshow(distance)\n",
        "  plt.title('Distance transform of nuclei segmentation')\n",
        "  plt.show()\n",
        "  # Display the image\n",
        "  plt.imshow(seg_n_image)\n",
        "  plt.scatter(y_centers[len(y_centers)-1], x_centers[len(x_centers)-1])\n",
        "  plt.title(\"Centroid of the Object\")\n",
        "  plt.show()\n",
        "\n",
        "#of course, you can also manually enter the x y values for the center of nuclei by uncommenting the codes below\n",
        "#x_centers[0] = 250\n",
        "#y_centers[0] = 250\n",
        "#plt.imshow(nuclei_im[0])\n",
        "#plt.scatter(y_centers[0], x_centers[0])\n",
        "#plt.show()"
      ],
      "metadata": {
        "id": "rTX9Jl7VHw3C"
      },
      "execution_count": null,
      "outputs": []
    },
    {
      "cell_type": "markdown",
      "source": [
        "## Concentric Circle Analysis for Airyscans only"
      ],
      "metadata": {
        "id": "ZMwWlrFeQdsb"
      }
    },
    {
      "cell_type": "markdown",
      "source": [
        "note: Depending on the image, the radii_list can be adjusted. Currently it says [x for x in range(30, 600, 30)], where the first number is the inner-most radius, second number is the outermost radius, and the last number means each iteration increment the radius by 30 pixels.\n",
        "\n",
        "Also, the pixel_threshold variable may be adjusted. A higher threshold value will be less sensitive to microtubule signals."
      ],
      "metadata": {
        "id": "RLQvZwynGrX5"
      }
    },
    {
      "cell_type": "markdown",
      "source": [
        "Drawing concentric circles and calculating MT density. Writing measurements to an excel file named Concentric Circle Data.xlsx"
      ],
      "metadata": {
        "id": "7HGBzOccdLLk"
      }
    },
    {
      "cell_type": "code",
      "execution_count": null,
      "metadata": {
        "id": "aBRi92g-2c11",
        "collapsed": true
      },
      "outputs": [],
      "source": [
        "radii_list = [x for x in range(30, 600, 30)]\n",
        "df = pd.DataFrame(radii_list, columns = ['radius'])\n",
        "for num, im in enumerate(micro_im):\n",
        "  im = imAdjust(im)\n",
        "  pixel_threshold = 50\n",
        "  #List to determine radii in pixels for analysis\n",
        "  total_densities = []\n",
        "  #for nucleus in range(len(y_centers)): #loop through num of nuclei found in image\n",
        "  count = 1\n",
        "  densities = []\n",
        "  plt.figure(figsize = (15,15))\n",
        "  for i in range(len(radii_list)): #loop through each radius\n",
        "      radius = radii_list[i]\n",
        "      if i == 0:\n",
        "        #adjust if you adjust the values in the radii list\n",
        "        prev_rad = 0\n",
        "      else:\n",
        "        prev_rad = radii_list[i-1]\n",
        "      square = im[x_centers[num]-radius:x_centers[num]+radius,y_centers[num]-radius:y_centers[num]+radius].astype(np.float32)\n",
        "      #cropping circle and ring\n",
        "      height,width = square.shape\n",
        "      mask = Image.new('L', [height,width] , 0)\n",
        "      mask1 = Image.new('L', [height,width] , 0)\n",
        "\n",
        "      #drawing outer ring\n",
        "      draw = ImageDraw.Draw(mask)\n",
        "      draw.pieslice([(0,0), (height,width)], 0, 360, fill = 255, outline = \"white\")\n",
        "\n",
        "      #drawing inner ring\n",
        "      draw = ImageDraw.Draw(mask1)\n",
        "      diff = radius - prev_rad\n",
        "      draw.pieslice([(diff,diff), (height - diff,width - diff)], 0, 360, fill = 255, outline = \"white\")\n",
        "\n",
        "      #cropping image based on the two rings drawn\n",
        "      np_mask = np.array(mask)\n",
        "      p_np_mask = np.array(mask1)\n",
        "      ring = np.zeros(square.shape)\n",
        "      for i in range(np_mask.shape[0]):\n",
        "        for j in range(np_mask.shape[1]):\n",
        "          if np_mask[i][j] == 255 and p_np_mask[i][j] == 0:\n",
        "            ring[i][j] = square[i][j]\n",
        "\n",
        "      #Calculate Density\n",
        "      microtubules = 0\n",
        "      total_pixels = 0\n",
        "      m_im = np.zeros(ring.shape)\n",
        "      for x in range(ring.shape[0]):\n",
        "          for y in range(ring.shape[1]):\n",
        "              if ring[x,y] > pixel_threshold:\n",
        "                  microtubules += 1\n",
        "                  m_im[x,y] = ring[x,y]\n",
        "              if ring[x,y] > 0:\n",
        "                total_pixels += 1\n",
        "      plt.subplot(len(radii_list), 3, count)\n",
        "      plt.imshow(m_im, cmap = 'gray')\n",
        "      count += 1\n",
        "      density = microtubules/total_pixels\n",
        "      densities.append(density)\n",
        "      #print('density of microtubules at nuclei',nucleus+1,'with radius',radius,'pixels is',density)\n",
        "  total_densities.append(densities)\n",
        "  #print('-----------------------------')\n",
        "\n",
        "  #Printing out and plotting results\n",
        "  #print(len(total_densities))\n",
        "  print(total_densities)\n",
        "  df[file_name[num]] = total_densities[0]\n",
        "  #df.to_excel(dfo, index = False)\n",
        "  plt.figure()\n",
        "  n = 1\n",
        "  for d in total_densities:\n",
        "    plt.plot(radii_list, d)\n",
        "    plt.ylim([0, 1])\n",
        "    plt.xlabel(\"Radius away from nuclear center (pixels)\")\n",
        "    plt.ylabel(\"Microtubule Density\")\n",
        "    print(\"Desnties at radii\", radii_list, \"for nucleus\", n, \"are\", d)\n",
        "    n+=1\n",
        "\n",
        "  #Displaying the concentric circles onto the image\n",
        "  im_copy = im.copy()\n",
        "  for nucleus in range(len(y_centers)):\n",
        "    for radius in radii_list:\n",
        "      cv2.circle(im_copy, (y_centers[num], x_centers[num]), radius, (255,255,255), 2)\n",
        "\n",
        "  plt.figure()\n",
        "  plt.imshow(im_copy, cmap = 'gray')\n",
        "  plt.show()\n",
        "df['Average'] = df.iloc[:, 1:].mean(axis=1)\n",
        "df.to_excel(dfo, index = False, sheet_name = 'C.C. MT Densities')\n",
        "\n",
        "dfi = pd.read_excel(dfo)\n",
        "average = [x for x in list(dfi['Average'])]\n",
        "plt.plot(radii_list, average)\n",
        "plt.ylim([0, 1])\n",
        "plt.xlabel(\"Radius away from nuclear center (pixels)\")\n",
        "plt.ylabel(\"Microtubule Density\")\n",
        "plt.title(\"Average Microtubule Density\")\n",
        "plt.show()\n"
      ]
    },
    {
      "cell_type": "markdown",
      "source": [
        "## Concentric Circle Analysis for Confocal only"
      ],
      "metadata": {
        "id": "96QbDssRS7Vu"
      }
    },
    {
      "cell_type": "markdown",
      "source": [
        "Note: the pixel_threshold variable may be adjusted. A higher threshold value will be less sensitive to microtubule signals."
      ],
      "metadata": {
        "id": "cZ2muxNYTSXn"
      }
    },
    {
      "cell_type": "code",
      "execution_count": null,
      "metadata": {
        "id": "We1kDgKXSzpT"
      },
      "outputs": [],
      "source": [
        "pre_radius_list = [x for x in range(5, 60, 5)]\n",
        "df = pd.DataFrame(pre_radius_list, columns = ['radius'])\n",
        "for num, im in enumerate(micro_im):\n",
        "  max_radius = min(im.shape[0] - x_centers[num], im.shape[1] - y_centers[num], x_centers[num], y_centers[num])\n",
        "  smaller_dimension = min(im.shape[0], im.shape[1])\n",
        "  radii_list = [x for x in range(5, max_radius, 5)]\n",
        "  im = imAdjust(im)\n",
        "  pixel_threshold = 50\n",
        "  #List to determine radii in pixels for analysis\n",
        "  total_densities = []\n",
        "  #for nucleus in range(len(y_centers)): #loop through num of nuclei found in image\n",
        "  count = 1\n",
        "  densities = []\n",
        "  plt.figure(figsize = (15,15))\n",
        "  for i in range(len(radii_list)): #loop through each radius\n",
        "      radius = radii_list[i]\n",
        "      if i == 0:\n",
        "        #adjust if you adjust the values in the radii list\n",
        "        prev_rad = 0\n",
        "      else:\n",
        "        prev_rad = radii_list[i-1]\n",
        "      square = im[x_centers[num]-radius:x_centers[num]+radius,y_centers[num]-radius:y_centers[num]+radius].astype(np.float32)\n",
        "      #cropping circle and ring\n",
        "      height,width = square.shape\n",
        "      mask = Image.new('L', [height,width] , 0)\n",
        "      mask1 = Image.new('L', [height,width] , 0)\n",
        "\n",
        "      #drawing outer ring\n",
        "      draw = ImageDraw.Draw(mask)\n",
        "      draw.pieslice([(0,0), (height,width)], 0, 360, fill = 255, outline = \"white\")\n",
        "\n",
        "      #drawing inner ring\n",
        "      draw = ImageDraw.Draw(mask1)\n",
        "      diff = radius - prev_rad\n",
        "      draw.pieslice([(diff,diff), (height - diff,width - diff)], 0, 360, fill = 255, outline = \"white\")\n",
        "\n",
        "      #cropping image based on the two rings drawn\n",
        "      np_mask = np.array(mask)\n",
        "      p_np_mask = np.array(mask1)\n",
        "      ring = np.zeros(square.shape)\n",
        "      for i in range(np_mask.shape[0]):\n",
        "        for j in range(np_mask.shape[1]):\n",
        "          if np_mask[i][j] == 255 and p_np_mask[i][j] == 0:\n",
        "            ring[i][j] = square[i][j]\n",
        "\n",
        "      #Calculate Density\n",
        "      microtubules = 0\n",
        "      total_pixels = 0\n",
        "      m_im = np.zeros(ring.shape)\n",
        "      for x in range(ring.shape[0]):\n",
        "          for y in range(ring.shape[1]):\n",
        "              if ring[x,y] > pixel_threshold:\n",
        "                  microtubules += 1\n",
        "                  m_im[x,y] = ring[x,y]\n",
        "              if ring[x,y] > 0:\n",
        "                total_pixels += 1\n",
        "      plt.subplot(len(radii_list), 3, count)\n",
        "      plt.imshow(m_im, cmap = 'gray')\n",
        "      count += 1\n",
        "      density = microtubules/total_pixels\n",
        "      densities.append(density)\n",
        "      #print('density of microtubules at nuclei',nucleus+1,'with radius',radius,'pixels is',density)\n",
        "  total_densities.append(densities)\n",
        "  #print('-----------------------------')\n",
        "\n",
        "  #Printing out and plotting results\n",
        "  #print(len(total_densities))\n",
        "  df[file_name[num]] = pd.Series(total_densities[0])\n",
        "  #df.to_excel(dfo, index = False)\n",
        "  plt.figure()\n",
        "  n = 1\n",
        "  for d in total_densities:\n",
        "    plt.plot(radii_list, d)\n",
        "    plt.ylim([0, 1])\n",
        "    plt.xlabel(\"Radius away from nuclear center (pixels)\")\n",
        "    plt.ylabel(\"Microtubule Density\")\n",
        "    print(\"Desnties at radii\", radii_list, \"for nucleus\", n, \"are\", d)\n",
        "    n+=1\n",
        "\n",
        "  #Displaying the concentric circles onto the image\n",
        "  im_copy = im.copy()\n",
        "  for nucleus in range(len(y_centers)):\n",
        "    for radius in radii_list:\n",
        "      cv2.circle(im_copy, (y_centers[num], x_centers[num]), radius, (255,255,255), 1)\n",
        "\n",
        "  plt.figure()\n",
        "  plt.imshow(im_copy, cmap = 'gray')\n",
        "  plt.show()\n",
        "df['Average'] = df.iloc[:, 1:].mean(axis=1)\n",
        "df.to_excel(dfo, index = False, sheet_name = 'C.C. MT Densities')\n"
      ]
    }
  ]
}